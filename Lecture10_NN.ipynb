{
  "nbformat": 4,
  "nbformat_minor": 0,
  "metadata": {
    "colab": {
      "name": "Lecture10_NN.ipynb",
      "provenance": [],
      "collapsed_sections": [],
      "authorship_tag": "ABX9TyOiaPKP7fgaV5UuzfQ58ehL",
      "include_colab_link": true
    },
    "kernelspec": {
      "name": "python3",
      "display_name": "Python 3"
    },
    "language_info": {
      "name": "python"
    }
  },
  "cells": [
    {
      "cell_type": "markdown",
      "metadata": {
        "id": "view-in-github",
        "colab_type": "text"
      },
      "source": [
        "<a href=\"https://colab.research.google.com/github/ab-sa/Statistical-Machine-Learning3/blob/main/Lecture10_NN.ipynb\" target=\"_parent\"><img src=\"https://colab.research.google.com/assets/colab-badge.svg\" alt=\"Open In Colab\"/></a>"
      ]
    },
    {
      "cell_type": "code",
      "execution_count": 1,
      "metadata": {
        "id": "fsvLxzhsubR4",
        "colab": {
          "base_uri": "https://localhost:8080/"
        },
        "outputId": "b95e0d16-052c-4724-ac0f-c2226a70071a"
      },
      "outputs": [
        {
          "output_type": "stream",
          "name": "stderr",
          "text": [
            "/usr/local/lib/python3.7/dist-packages/statsmodels/tools/_testing.py:19: FutureWarning: pandas.util.testing is deprecated. Use the functions in the public API at pandas.testing instead.\n",
            "  import pandas.util.testing as tm\n"
          ]
        }
      ],
      "source": [
        "import numpy as np\n",
        "import pandas as pd\n",
        "from sklearn.discriminant_analysis import LinearDiscriminantAnalysis, QuadraticDiscriminantAnalysis\n",
        "from sklearn.naive_bayes import GaussianNB\n",
        "from sklearn.decomposition import PCA\n",
        "from sklearn.preprocessing import StandardScaler\n",
        "from sklearn.model_selection import train_test_split, RepeatedKFold, cross_val_score, GridSearchCV\n",
        "import statsmodels.formula.api as smf\n",
        "import statsmodels.api as sm\n",
        "from sklearn.metrics import accuracy_score, confusion_matrix, classification_report\n",
        "import matplotlib.pyplot as plt\n",
        "import seaborn as sns\n",
        "from sklearn.neighbors import KernelDensity\n",
        "from sklearn.preprocessing import LabelEncoder\n",
        "from sklearn.base import BaseEstimator, ClassifierMixin\n",
        "from keras.models import Sequential\n",
        "from keras.layers import Dense, Dropout\n",
        "from keras.utils import np_utils\n",
        "from keras.wrappers.scikit_learn import KerasClassifier, KerasRegressor\n",
        "from tensorflow.keras.optimizers import SGD"
      ]
    },
    {
      "cell_type": "code",
      "execution_count": 2,
      "metadata": {
        "id": "ivuMO5fPu1RO",
        "colab": {
          "base_uri": "https://localhost:8080/"
        },
        "outputId": "fa0f36ed-43af-40ca-c638-559548f288b9"
      },
      "outputs": [
        {
          "output_type": "stream",
          "name": "stdout",
          "text": [
            "Dimension of the data: (400, 9)\n",
            "    Income  Cards  Age  Education  Gender Student Married  Ethnicity  \\\n",
            "0   14.891      2   34         11    Male      No     Yes  Caucasian   \n",
            "1  106.025      3   82         15  Female     Yes     Yes      Asian   \n",
            "2  104.593      4   71         11    Male      No      No      Asian   \n",
            "3  148.924      3   36         11  Female      No      No      Asian   \n",
            "4   55.882      2   68         16    Male      No     Yes  Caucasian   \n",
            "\n",
            "  Balance_multi  \n",
            "0             1  \n",
            "1             2  \n",
            "2             1  \n",
            "3             2  \n",
            "4             1  \n",
            "0    0.4000\n",
            "2    0.3475\n",
            "1    0.2525\n",
            "Name: Balance_multi, dtype: float64\n"
          ]
        }
      ],
      "source": [
        "Credit = pd.read_csv('Credit.csv')\n",
        "Credit['Balance_multi'] = pd.cut(Credit.Balance, bins=[-1,300,700,2000],labels=[0,1,2])\n",
        "Credit = Credit.drop(['ID', 'Balance', 'Limit', 'Rating'], axis=1)\n",
        "print('Dimension of the data: ' + str(Credit.shape))\n",
        "print(Credit.head())\n",
        "print(Credit['Balance_multi'].value_counts(normalize=True))"
      ]
    },
    {
      "cell_type": "markdown",
      "metadata": {
        "id": "5faj5Av7u8kM"
      },
      "source": [
        "**Artificial Neural Nets (ANN)**: Fit a classification NN with Balance_multi as response:\n",
        "- There are many different libraries with many different ways to a fit a NN in python. I use ***keras*** here, but feel free to look around for other options as well.\n",
        "- Let's start with fiting a simple ANN model with only two layers:\n",
        "  - layer 1: 10 hidden nodes\n",
        "  - layer 2: 6 hidden nodes"
      ]
    },
    {
      "cell_type": "code",
      "execution_count": 3,
      "metadata": {
        "id": "idqZRSFou9iI",
        "colab": {
          "base_uri": "https://localhost:8080/"
        },
        "outputId": "c51b8764-c04e-4d84-b8d0-986b016eef47"
      },
      "outputs": [
        {
          "output_type": "stream",
          "name": "stdout",
          "text": [
            "Epoch 1/10\n",
            "32/32 [==============================] - 1s 2ms/step - loss: 1.1124 - accuracy: 0.3406\n",
            "Epoch 2/10\n",
            "32/32 [==============================] - 0s 2ms/step - loss: 1.0975 - accuracy: 0.3812\n",
            "Epoch 3/10\n",
            "32/32 [==============================] - 0s 2ms/step - loss: 1.0858 - accuracy: 0.4437\n",
            "Epoch 4/10\n",
            "32/32 [==============================] - 0s 2ms/step - loss: 1.0754 - accuracy: 0.4750\n",
            "Epoch 5/10\n",
            "32/32 [==============================] - 0s 2ms/step - loss: 1.0641 - accuracy: 0.4906\n",
            "Epoch 6/10\n",
            "32/32 [==============================] - 0s 9ms/step - loss: 1.0529 - accuracy: 0.5156\n",
            "Epoch 7/10\n",
            "32/32 [==============================] - 0s 2ms/step - loss: 1.0423 - accuracy: 0.5281\n",
            "Epoch 8/10\n",
            "32/32 [==============================] - 0s 2ms/step - loss: 1.0316 - accuracy: 0.5312\n",
            "Epoch 9/10\n",
            "32/32 [==============================] - 0s 2ms/step - loss: 1.0226 - accuracy: 0.5281\n",
            "Epoch 10/10\n",
            "32/32 [==============================] - 0s 2ms/step - loss: 1.0120 - accuracy: 0.5281\n"
          ]
        }
      ],
      "source": [
        "# data: dropping the credit-card related features (Limit & Rating) to make the classification problem more challenging\n",
        "X = pd.get_dummies(Credit.drop(['Balance_multi'], axis=1))\n",
        "y = Credit['Balance_multi']\n",
        "x_train, x_test, y_train, y_test = train_test_split(X, y, test_size=0.2, random_state=0)\n",
        "# standardizing the input\n",
        "std_scale = StandardScaler().fit(x_train)\n",
        "X_train_std = std_scale.transform(x_train)\n",
        "X_test_std = std_scale.transform(x_test)\n",
        "\n",
        "# encode class values as integers\n",
        "encoder = LabelEncoder()\n",
        "encoder.fit(y_train)\n",
        "encoded_y_train = encoder.transform(y_train)\n",
        "# convert integers to dummy variables (i.e. one hot encoded)\n",
        "dummy_y_train = np_utils.to_categorical(encoded_y_train)\n",
        "\n",
        "# building the ANN model\n",
        "ANN_classifier = Sequential()\n",
        "# Defining the Input layer and FIRST hidden layer,both are same!\n",
        "# relu means Rectifier linear unit function\n",
        "# input_dim: number of features in your training data\n",
        "ANN_classifier.add(Dense(units=10, input_dim=13, activation='relu'))\n",
        "\n",
        "# Defining the SECOND hidden layer, here we have not defined input because it is\n",
        "# second layer and it will get input as the output of first hidden layer\n",
        "ANN_classifier.add(Dense(units=6, activation='relu'))\n",
        "\n",
        "# Defining the Output layer\n",
        "# for a classification problem, the output layer is defined as:\n",
        "# for a binary outcome: activation = 'softmax'\n",
        "# for a Multiclass (more than two classes) outcome: activation ='softmax'\n",
        "# And output_dim will be equal to the number of factor levels (here, it will be 3)\n",
        "ANN_classifier.add(Dense(units=3, activation='softmax'))\n",
        "\n",
        "# Optimizer: the algorithm of SGD to keep updating weights\n",
        "# loss: the loss function to measure the accuracy\n",
        "# metrics: the way we will compare the accuracy after each step of SGD\n",
        "ANN_classifier.compile(optimizer='adam', loss='categorical_crossentropy', metrics=['accuracy'])\n",
        "\n",
        "# fitting the Neural Network on the training data\n",
        "ANN_Model_1 = ANN_classifier.fit(X_train_std, dummy_y_train, batch_size=10 , epochs=10, verbose=1)"
      ]
    },
    {
      "cell_type": "markdown",
      "metadata": {
        "id": "S7edyziqq6-0"
      },
      "source": [
        "Measure the accuracy of our simple ANN model:"
      ]
    },
    {
      "cell_type": "code",
      "execution_count": 4,
      "metadata": {
        "id": "WbKxT_exrF16",
        "colab": {
          "base_uri": "https://localhost:8080/"
        },
        "outputId": "c855b9ba-6701-4ce6-a918-93ae0bd99ada"
      },
      "outputs": [
        {
          "output_type": "stream",
          "name": "stdout",
          "text": [
            "3/3 [==============================] - 0s 4ms/step\n",
            "              precision    recall  f1-score   support\n",
            "\n",
            "           0       0.45      0.86      0.60        29\n",
            "           1       0.00      0.00      0.00        23\n",
            "           2       0.64      0.57      0.60        28\n",
            "\n",
            "    accuracy                           0.51        80\n",
            "   macro avg       0.36      0.48      0.40        80\n",
            "weighted avg       0.39      0.51      0.43        80\n",
            "\n",
            "[[25  0  4]\n",
            " [18  0  5]\n",
            " [12  0 16]]\n"
          ]
        },
        {
          "output_type": "stream",
          "name": "stderr",
          "text": [
            "/usr/local/lib/python3.7/dist-packages/sklearn/metrics/_classification.py:1318: UndefinedMetricWarning: Precision and F-score are ill-defined and being set to 0.0 in labels with no predicted samples. Use `zero_division` parameter to control this behavior.\n",
            "  _warn_prf(average, modifier, msg_start, len(result))\n",
            "/usr/local/lib/python3.7/dist-packages/sklearn/metrics/_classification.py:1318: UndefinedMetricWarning: Precision and F-score are ill-defined and being set to 0.0 in labels with no predicted samples. Use `zero_division` parameter to control this behavior.\n",
            "  _warn_prf(average, modifier, msg_start, len(result))\n",
            "/usr/local/lib/python3.7/dist-packages/sklearn/metrics/_classification.py:1318: UndefinedMetricWarning: Precision and F-score are ill-defined and being set to 0.0 in labels with no predicted samples. Use `zero_division` parameter to control this behavior.\n",
            "  _warn_prf(average, modifier, msg_start, len(result))\n"
          ]
        }
      ],
      "source": [
        "# Predictions (scores) on testing data\n",
        "ANN_preds = ANN_classifier.predict(X_test_std)\n",
        "# Predictions (labels) on testing data\n",
        "ANN_preds_class = ANN_preds.argmax(axis=-1)\n",
        "\n",
        "print(classification_report(y_test, ANN_preds_class))\n",
        "print(confusion_matrix(y_test, ANN_preds_class))"
      ]
    },
    {
      "cell_type": "markdown",
      "source": [
        "Tuning an ANN model by using GridSearchCV"
      ],
      "metadata": {
        "id": "BPC8oKh5AA74"
      }
    },
    {
      "cell_type": "code",
      "source": [
        "# Function to generate Deep ANN model \n",
        "def make_classification_ann(Optimizer_Trial, Neurons_Trial_1, Neurons_Trial_2):\n",
        "    \n",
        "    # Creating the classifier ANN model\n",
        "    classifier = Sequential()\n",
        "    classifier.add(Dense(units=Neurons_Trial_1, input_dim=13, activation='relu'))\n",
        "    classifier.add(Dense(units=Neurons_Trial_2, activation='relu'))\n",
        "    classifier.add(Dense(units=3, activation='softmax'))\n",
        "    classifier.compile(optimizer=Optimizer_Trial, loss='categorical_crossentropy', metrics=['accuracy'])\n",
        "            \n",
        "    return classifier\n",
        "\n",
        "\n",
        "Parameter_Trials = {'batch_size':[10,40,80],\n",
        "                    'epochs':[20,50],\n",
        "#                    'Optimizer_Trial':['adam'],\n",
        "                    'Optimizer_Trial':['adam', 'rmsprop'],\n",
        "                    'Neurons_Trial_1': [10,40,80],\n",
        "                    'Neurons_Trial_2': [10,40,80]\n",
        "                   }\n",
        "\n",
        "# Creating the classifier ANN\n",
        "classifierModel = KerasClassifier(make_classification_ann, verbose=0)\n",
        "\n",
        "# encode class values as integers\n",
        "encoder = LabelEncoder()\n",
        "encoder.fit(y)\n",
        "encoded_y = encoder.transform(y)\n",
        "# convert integers to dummy variables (i.e. one hot encoded)\n",
        "dummy_y = np_utils.to_categorical(encoded_y)\n",
        "\n",
        "# Creating the Grid search space\n",
        "# See different scoring methods by using sklearn.metrics.SCORERS.keys()\n",
        "grid_search = GridSearchCV(estimator=classifierModel, param_grid=Parameter_Trials, cv=5)\n",
        "\n",
        "########################################\n",
        "\n",
        "# Measuring how much time it took to find the best params\n",
        "import time\n",
        "StartTime=time.time()\n",
        "\n",
        "# Running Grid Search for different paramenters\n",
        "grid_search.fit(X, dummy_y, verbose=0)\n",
        "\n",
        "EndTime=time.time()\n",
        "print(\"Total Time Taken: \", round((EndTime-StartTime)/60), 'Minutes')\n",
        "\n",
        "########################################\n",
        "\n",
        "# printing the best parameters\n",
        "print('#### Best hyperparamters ####')\n",
        "grid_search.best_params_"
      ],
      "metadata": {
        "id": "QmFFhIlOANKq",
        "colab": {
          "base_uri": "https://localhost:8080/"
        },
        "outputId": "7823b376-d472-48fa-db71-e4a3a26b69d8"
      },
      "execution_count": 6,
      "outputs": [
        {
          "output_type": "stream",
          "name": "stderr",
          "text": [
            "/usr/local/lib/python3.7/dist-packages/ipykernel_launcher.py:23: DeprecationWarning: KerasClassifier is deprecated, use Sci-Keras (https://github.com/adriangb/scikeras) instead. See https://www.adriangb.com/scikeras/stable/migration.html for help migrating.\n"
          ]
        },
        {
          "output_type": "stream",
          "name": "stdout",
          "text": [
            "Total Time Taken:  15 Minutes\n",
            "#### Best hyperparamters ####\n"
          ]
        },
        {
          "output_type": "execute_result",
          "data": {
            "text/plain": [
              "{'Neurons_Trial_1': 40,\n",
              " 'Neurons_Trial_2': 10,\n",
              " 'Optimizer_Trial': 'rmsprop',\n",
              " 'batch_size': 40,\n",
              " 'epochs': 20}"
            ]
          },
          "metadata": {},
          "execution_count": 6
        }
      ]
    },
    {
      "cell_type": "markdown",
      "source": [
        "**Artificial Neural Nets (ANN)**: Fit a regression NN with Balance as response:\n"
      ],
      "metadata": {
        "id": "Om5fcIkwJmcy"
      }
    },
    {
      "cell_type": "code",
      "source": [
        "# Function to generate Deep ANN model \n",
        "def make_regression_ann(Optimizer_Trial, Neurons_Trial_1, Neurons_Trial_2):\n",
        "    \n",
        "    # Creating the classifier ANN model\n",
        "    regressor = Sequential()\n",
        "    regressor.add(Dense(units=Neurons_Trial_1, input_dim=13, activation='relu'))\n",
        "    regressor.add(Dense(units=Neurons_Trial_2, activation='relu'))\n",
        "    regressor.add(Dense(units=1, activation='linear'))\n",
        "    regressor.compile(optimizer=Optimizer_Trial, loss='mean_squared_error', metrics=['mse'])\n",
        "            \n",
        "    return regressor\n",
        "\n",
        "\n",
        "Parameter_Trials = {'batch_size':[10,40,80],\n",
        "                    'epochs':[20,50],\n",
        "                    'Optimizer_Trial':['adam', 'rmsprop'],\n",
        "                    'Neurons_Trial_1': [10,40,80],\n",
        "                    'Neurons_Trial_2': [10,40,80]\n",
        "                   }\n",
        "\n",
        "# Creating the classifier ANN\n",
        "RegressionModel = KerasRegressor(make_regression_ann, verbose=0)\n",
        "\n",
        "# Creating the Grid search space\n",
        "# See different scoring methods by using sklearn.metrics.SCORERS.keys()\n",
        "grid_search_reg = GridSearchCV(estimator=RegressionModel, param_grid=Parameter_Trials, cv=5)\n",
        "\n",
        "########################################\n",
        "\n",
        "# Measuring how much time it took to find the best params\n",
        "import time\n",
        "StartTime=time.time()\n",
        "\n",
        "# Running Grid Search for different paramenters\n",
        "grid_search_reg.fit(X, y, verbose=0)\n",
        "\n",
        "EndTime=time.time()\n",
        "print(\"Total Time Taken: \", round((EndTime-StartTime)/60), 'Minutes')\n",
        "\n",
        "########################################\n",
        "\n",
        "# printing the best parameters\n",
        "print('#### Best hyperparamters ####')\n",
        "grid_search_reg.best_params_"
      ],
      "metadata": {
        "id": "YEogkJzfJpwq",
        "colab": {
          "base_uri": "https://localhost:8080/"
        },
        "outputId": "536c653c-5f16-4e5e-e2fe-cf71c91029e5"
      },
      "execution_count": 7,
      "outputs": [
        {
          "output_type": "stream",
          "name": "stderr",
          "text": [
            "/usr/local/lib/python3.7/dist-packages/ipykernel_launcher.py:22: DeprecationWarning: KerasRegressor is deprecated, use Sci-Keras (https://github.com/adriangb/scikeras) instead. See https://www.adriangb.com/scikeras/stable/migration.html for help migrating.\n"
          ]
        },
        {
          "output_type": "stream",
          "name": "stdout",
          "text": [
            "Total Time Taken:  14 Minutes\n",
            "#### Best hyperparamters ####\n"
          ]
        },
        {
          "output_type": "execute_result",
          "data": {
            "text/plain": [
              "{'Neurons_Trial_1': 80,\n",
              " 'Neurons_Trial_2': 80,\n",
              " 'Optimizer_Trial': 'adam',\n",
              " 'batch_size': 80,\n",
              " 'epochs': 50}"
            ]
          },
          "metadata": {},
          "execution_count": 7
        }
      ]
    },
    {
      "cell_type": "markdown",
      "source": [
        "To adjust the decay parameter (shrinkage) with keras, you need to modify the optimizer:"
      ],
      "metadata": {
        "id": "TyPXKpqFNhk2"
      }
    },
    {
      "cell_type": "code",
      "source": [
        "def make_regression_ann(decay_rate, Neurons_Trial_1, Neurons_Trial_2):\n",
        "\n",
        "    # you can also pass different values for momentum & lr (other inputs of SGD) to find their optimal values as well\n",
        "    sgd = SGD(decay=decay_rate, nesterov=False)\n",
        "\n",
        "    # Creating the classifier ANN model\n",
        "    regressor = Sequential()\n",
        "    regressor.add(Dense(units=Neurons_Trial_1, input_dim=13, activation='relu'))\n",
        "    regressor.add(Dense(units=Neurons_Trial_2, activation='relu'))\n",
        "    regressor.add(Dense(units=1, activation='linear'))\n",
        "    regressor.compile(optimizer=sgd, loss='mean_squared_error', metrics=['mse'])\n",
        "            \n",
        "    return regressor\n",
        "\n",
        "# for simplicity, only including the best parameters from the previouse GridSearchCV.\n",
        "# Idealy, you need to repeate the fitting process with all combinations again\n",
        "Parameter_Trials = {'batch_size':[80],\n",
        "                    'epochs':[50],\n",
        "                    'decay_rate':[1,0.01,0.001],\n",
        "                    'Neurons_Trial_1': [80],\n",
        "                    'Neurons_Trial_2': [80]\n",
        "                   }\n",
        "\n",
        "# Creating the classifier ANN\n",
        "RegressionModel = KerasRegressor(make_regression_ann, verbose=0)\n",
        "\n",
        "# Creating the Grid search space\n",
        "# See different scoring methods by using sklearn.metrics.SCORERS.keys()\n",
        "grid_search_reg = GridSearchCV(estimator=RegressionModel, param_grid=Parameter_Trials, cv=5)\n",
        "\n",
        "########################################\n",
        "\n",
        "# Measuring how much time it took to find the best params\n",
        "import time\n",
        "StartTime=time.time()\n",
        "\n",
        "# Running Grid Search for different paramenters\n",
        "grid_search_reg.fit(X, y, verbose=0)\n",
        "\n",
        "EndTime=time.time()\n",
        "print(\"Total Time Taken: \", round((EndTime-StartTime)/60), 'Minutes')\n",
        "\n",
        "########################################\n",
        "\n",
        "# printing the best parameters\n",
        "print('#### Best hyperparamters ####')\n",
        "grid_search_reg.best_params_"
      ],
      "metadata": {
        "id": "J4rnhRWXOEx0",
        "colab": {
          "base_uri": "https://localhost:8080/"
        },
        "outputId": "c3f7b3d9-6af4-44d0-ecf4-6206e5d7ad28"
      },
      "execution_count": 8,
      "outputs": [
        {
          "output_type": "stream",
          "name": "stderr",
          "text": [
            "/usr/local/lib/python3.7/dist-packages/ipykernel_launcher.py:25: DeprecationWarning: KerasRegressor is deprecated, use Sci-Keras (https://github.com/adriangb/scikeras) instead. See https://www.adriangb.com/scikeras/stable/migration.html for help migrating.\n",
            "/usr/local/lib/python3.7/dist-packages/sklearn/model_selection/_search.py:972: UserWarning: One or more of the test scores are non-finite: [nan nan nan]\n",
            "  category=UserWarning,\n"
          ]
        },
        {
          "output_type": "stream",
          "name": "stdout",
          "text": [
            "Total Time Taken:  0 Minutes\n",
            "#### Best hyperparamters ####\n"
          ]
        },
        {
          "output_type": "execute_result",
          "data": {
            "text/plain": [
              "{'Neurons_Trial_1': 80,\n",
              " 'Neurons_Trial_2': 80,\n",
              " 'batch_size': 80,\n",
              " 'decay_rate': 1,\n",
              " 'epochs': 50}"
            ]
          },
          "metadata": {},
          "execution_count": 8
        }
      ]
    }
  ]
}