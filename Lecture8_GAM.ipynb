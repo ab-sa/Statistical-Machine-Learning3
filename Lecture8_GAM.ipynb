{
  "nbformat": 4,
  "nbformat_minor": 0,
  "metadata": {
    "colab": {
      "name": "Lecture8-GAM.ipynb",
      "provenance": [],
      "authorship_tag": "ABX9TyOfHsz2ZWUlI/jSUzufBvcN",
      "include_colab_link": true
    },
    "kernelspec": {
      "name": "python3",
      "display_name": "Python 3"
    },
    "language_info": {
      "name": "python"
    }
  },
  "cells": [
    {
      "cell_type": "markdown",
      "metadata": {
        "id": "view-in-github",
        "colab_type": "text"
      },
      "source": [
        "<a href=\"https://colab.research.google.com/github/ab-sa/Statistical-Machine-Learning3/blob/main/Lecture8_GAM.ipynb\" target=\"_parent\"><img src=\"https://colab.research.google.com/assets/colab-badge.svg\" alt=\"Open In Colab\"/></a>"
      ]
    },
    {
      "cell_type": "code",
      "execution_count": null,
      "metadata": {
        "id": "hb2Lek8tiWsE"
      },
      "outputs": [],
      "source": [
        "import numpy as np\n",
        "import pandas as pd\n",
        "from sklearn import linear_model\n",
        "from sklearn.linear_model import LinearRegression\n",
        "from sklearn.preprocessing import StandardScaler\n",
        "from sklearn.model_selection import train_test_split, RepeatedKFold, cross_val_score\n",
        "import statsmodels.formula.api as smf\n",
        "import statsmodels.api as sm\n",
        "from sklearn.metrics import mean_squared_error\n",
        "import matplotlib.pyplot as plt\n",
        "import seaborn as sns\n",
        "from sklearn.decomposition import PCA\n",
        "from sklearn.cross_decomposition import PLSRegression\n",
        "from sklearn.pipeline import Pipeline\n",
        "#!pip install pygam\n",
        "from pygam import GAM, s, te"
      ]
    },
    {
      "cell_type": "code",
      "source": [
        "Credit = pd.read_csv('Credit.csv')\n",
        "print('Dimension of the data: ' + str(Credit.shape))\n",
        "Credit.head()"
      ],
      "metadata": {
        "id": "AlVIKDktibMm"
      },
      "execution_count": null,
      "outputs": []
    },
    {
      "cell_type": "markdown",
      "source": [
        "Generalised Additive Model (GAM):\n",
        "There is a Python library in development for using GAMs (https://github.com/dswah/pyGAM), but it is not yet as comprehensive as the R GAM library, which we will use here instead."
      ],
      "metadata": {
        "id": "ou3HK5PgnUh4"
      }
    },
    {
      "cell_type": "markdown",
      "source": [
        "To fit a GAM:\n",
        "\n",
        "- Import the gam library\n",
        "- Populate a formula including s() on variables we want to fit smooths for\n",
        "- Call gam(formula, family=) where family is a string naming a probability distribution, chosen based on how the response variable is thought to occur.\n",
        "\n",
        "This is a good manual on fitting different smoothers as well as GAM on a dataset in python:\n",
        "https://harvard-iacs.github.io/2019-CS109B/labs/lab2/solutions/\n",
        "\n",
        "Here is an examplee how you can fit a GAM on Credit data:"
      ],
      "metadata": {
        "id": "8rpaMn2inx3y"
      }
    },
    {
      "cell_type": "code",
      "source": [
        "Credit['Gender_str'] = pd.Series(Credit['Gender']).astype('string')\n",
        "Credit['Student_str'] = pd.Series(Credit['Student']).astype('string')\n",
        "Credit['Married_str'] = pd.Series(Credit['Married']).astype('string')\n",
        "Credit['Ethnicity_str'] = pd.Series(Credit['Ethnicity']).astype('string')\n",
        "\n",
        "display(Credit.dtypes)"
      ],
      "metadata": {
        "id": "FEq7P0HHsW75"
      },
      "execution_count": null,
      "outputs": []
    },
    {
      "cell_type": "code",
      "source": [
        "from rpy2.robjects.packages import importr\n",
        "import rpy2.robjects as robjects\n",
        "# if you need to install gam package first:\n",
        "#utils = importr('utils')\n",
        "#utils.install_packages('gam')\n",
        "\n",
        "X = pd.get_dummies(Credit.drop(['Balance', 'ID'], axis=1))\n",
        "y = Credit['Balance']\n",
        "x_train, x_test, y_train, y_test = train_test_split(X, y, test_size=0.2, random_state=0)\n",
        "r_gam_lib = importr('gam')\n",
        "r_gam = r_gam_lib.gam\n",
        "\n",
        "r_Age = robjects.FloatVector(x_train[[\"Age\"]].values)\n",
        "r_Income = robjects.FloatVector(x_train[[\"Income\"]].values)\n",
        "r_Limit = robjects.FloatVector(x_train[[\"Limit\"]].values)\n",
        "r_Rating = robjects.FloatVector(x_train[[\"Rating\"]].values)\n",
        "r_Cards = robjects.FloatVector(x_train[[\"Cards\"]].values)\n",
        "r_Education = robjects.FloatVector(x_train[[\"Education\"]].values)\n",
        "r_Balance = robjects.FloatVector(y_train.values)\n",
        "r_Gender = robjects.FactorVector(x_train[\"Gender_str\"].values)\n",
        "r_Student = robjects.FactorVector(x_train[\"Student_str\"].values)\n",
        "r_Married = robjects.FactorVector(x_train[\"Married_str\"].values)\n",
        "r_Ethnicity = robjects.FactorVector(x_train[\"Ethnicity_str\"].values)\n",
        "\n",
        "r_fmla = robjects.Formula(\"Balance ~ s(Age) + s(Income) + s(Limit) + s(Rating) + s(Cards) + s(Education) + Gender_str + Student_str + Married_str + Ethnicity_str\")\n",
        "r_fmla.environment['Balance'] = r_Balance\n",
        "r_fmla.environment['Age'] = r_Age\n",
        "r_fmla.environment['Limit'] = r_Limit\n",
        "r_fmla.environment['Income'] = r_Income\n",
        "r_fmla.environment['Rating'] = r_Rating\n",
        "r_fmla.environment['Cards'] = r_Cards\n",
        "r_fmla.environment['Education'] = r_Education\n",
        "r_fmla.environment['Gender_str'] = r_Gender\n",
        "r_fmla.environment['Student_str'] = r_Student\n",
        "r_fmla.environment['Married_str'] = r_Married\n",
        "r_fmla.environment['Ethnicity_str'] = r_Ethnicity\n",
        "\n",
        "Balance_gam = r_gam(r_fmla)\n",
        "print(Balance_gam.names)\n",
        "print(Balance_gam.rx2('coefficients'))\n",
        "print(Balance_gam.rx2('aic'))\n",
        "print('sMSE: ', np.mean(pow(np.array(Balance_gam.rx2('residuals')), 2)))"
      ],
      "metadata": {
        "id": "f5QxdHVWuAz3"
      },
      "execution_count": null,
      "outputs": []
    },
    {
      "cell_type": "markdown",
      "source": [
        "Prediction for GAM:"
      ],
      "metadata": {
        "id": "11HlgOwJrBr9"
      }
    },
    {
      "cell_type": "code",
      "source": [
        "from numpy.core.fromnumeric import mean\n",
        "r_testSet = robjects.DataFrame({'Age': robjects.FloatVector(x_test[[\"Age\"]].values), \n",
        "                               'Limit': robjects.FloatVector(x_test[[\"Limit\"]].values), \n",
        "                               'Income': robjects.FloatVector(x_test[[\"Income\"]].values),\n",
        "                               'Rating': robjects.FloatVector(x_test[[\"Rating\"]].values),\n",
        "                               'Cards': robjects.FloatVector(x_test[[\"Cards\"]].values),\n",
        "                               'Education': robjects.FloatVector(x_test[[\"Education\"]].values),\n",
        "                               'Gender_str': robjects.FactorVector(x_test[\"Gender_str\"].values),\n",
        "                               'Student_str': robjects.FactorVector(x_test[\"Student_str\"].values),\n",
        "                               'Married_str': robjects.FactorVector(x_test[\"Married_str\"].values),\n",
        "                               'Ethnicity_str': robjects.FactorVector(x_test[\"Ethnicity_str\"].values)})\n",
        "r_predict = robjects.r['predict']\n",
        "gam_preds = np.array(r_predict(Balance_gam, r_testSet))\n",
        "print('MSPE: ', mean(pow(gam_preds - y_test, 2)))"
      ],
      "metadata": {
        "id": "_dwptANgrFPH"
      },
      "execution_count": null,
      "outputs": []
    },
    {
      "cell_type": "code",
      "source": [
        "%load_ext rpy2.ipython\n",
        "%R -i Balance_gam plot(Balance_gam, residuals=TRUE,se=TRUE, scale=20);"
      ],
      "metadata": {
        "id": "u4eBPAtrCieX"
      },
      "execution_count": null,
      "outputs": []
    },
    {
      "cell_type": "markdown",
      "source": [
        "Fit a similar GAM model by using pygam (simpler):"
      ],
      "metadata": {
        "id": "6xQOi83IViQs"
      }
    },
    {
      "cell_type": "code",
      "source": [
        "X = pd.get_dummies(Credit[['Age', 'Income', 'Rating', 'Limit', 'Cards']])\n",
        "y = Credit['Balance']\n",
        "x_train, x_test, y_train, y_test = train_test_split(X, y, test_size=0.2, random_state=0)\n",
        "\n",
        "gam=GAM(s(0)+s(1)+s(2)+s(3)+s(4)).fit(x_train,y_train)\n",
        "lams = np.linspace(0, 10, 100)\n",
        "gam.gridsearch(X=x_train, y=y_train, lam=lams, return_scores=True)\n",
        "#gam.summary()"
      ],
      "metadata": {
        "id": "Z31q2QBRVn70"
      },
      "execution_count": null,
      "outputs": []
    }
  ]
}