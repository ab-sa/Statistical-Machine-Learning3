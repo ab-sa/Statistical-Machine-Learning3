{
  "nbformat": 4,
  "nbformat_minor": 0,
  "metadata": {
    "colab": {
      "name": "Lecture10_NN_Lec.ipynb",
      "provenance": [],
      "collapsed_sections": [],
      "authorship_tag": "ABX9TyMdItnGp9WEL5PQsqotooJG",
      "include_colab_link": true
    },
    "kernelspec": {
      "name": "python3",
      "display_name": "Python 3"
    },
    "language_info": {
      "name": "python"
    }
  },
  "cells": [
    {
      "cell_type": "markdown",
      "metadata": {
        "id": "view-in-github",
        "colab_type": "text"
      },
      "source": [
        "<a href=\"https://colab.research.google.com/github/ab-sa/Statistical-Machine-Learning3/blob/main/Lecture10_NN_Lec.ipynb\" target=\"_parent\"><img src=\"https://colab.research.google.com/assets/colab-badge.svg\" alt=\"Open In Colab\"/></a>"
      ]
    },
    {
      "cell_type": "code",
      "execution_count": 1,
      "metadata": {
        "id": "fsvLxzhsubR4",
        "colab": {
          "base_uri": "https://localhost:8080/"
        },
        "outputId": "90845892-312d-4b7d-acb4-b7dbd433f2ee"
      },
      "outputs": [
        {
          "output_type": "stream",
          "name": "stderr",
          "text": [
            "/usr/local/lib/python3.7/dist-packages/statsmodels/tools/_testing.py:19: FutureWarning: pandas.util.testing is deprecated. Use the functions in the public API at pandas.testing instead.\n",
            "  import pandas.util.testing as tm\n"
          ]
        }
      ],
      "source": [
        "import numpy as np\n",
        "import pandas as pd\n",
        "from sklearn.discriminant_analysis import LinearDiscriminantAnalysis, QuadraticDiscriminantAnalysis\n",
        "from sklearn.naive_bayes import GaussianNB\n",
        "from sklearn.decomposition import PCA\n",
        "from sklearn.preprocessing import StandardScaler\n",
        "from sklearn.model_selection import train_test_split, RepeatedKFold, cross_val_score, GridSearchCV\n",
        "import statsmodels.formula.api as smf\n",
        "import statsmodels.api as sm\n",
        "from sklearn.metrics import accuracy_score, confusion_matrix, classification_report\n",
        "import matplotlib.pyplot as plt\n",
        "import seaborn as sns\n",
        "from sklearn.neighbors import KernelDensity\n",
        "from sklearn.preprocessing import LabelEncoder\n",
        "from sklearn.base import BaseEstimator, ClassifierMixin\n",
        "from keras.models import Sequential\n",
        "from keras.layers import Dense, Dropout\n",
        "from keras.utils import np_utils\n",
        "from keras.wrappers.scikit_learn import KerasClassifier, KerasRegressor\n",
        "from tensorflow.keras.optimizers import SGD"
      ]
    },
    {
      "cell_type": "code",
      "execution_count": 2,
      "metadata": {
        "id": "ivuMO5fPu1RO",
        "colab": {
          "base_uri": "https://localhost:8080/",
          "height": 206
        },
        "outputId": "75e510b9-5e5a-46af-d75b-e329475882ac"
      },
      "outputs": [
        {
          "output_type": "execute_result",
          "data": {
            "text/plain": [
              "     lcavol   lweight  age      lbph  svi       lcp  gleason  pgg45      lpsa\n",
              "0 -0.579818  2.769459   50 -1.386294    0 -1.386294        6      0 -0.430783\n",
              "1 -0.994252  3.319626   58 -1.386294    0 -1.386294        6      0 -0.162519\n",
              "2 -0.510826  2.691243   74 -1.386294    0 -1.386294        7     20 -0.162519\n",
              "3 -1.203973  3.282789   58 -1.386294    0 -1.386294        6      0 -0.162519\n",
              "4  0.751416  3.432373   62 -1.386294    0 -1.386294        6      0  0.371564"
            ],
            "text/html": [
              "\n",
              "  <div id=\"df-33ee4966-64ef-469e-abb1-e13b60875ed1\">\n",
              "    <div class=\"colab-df-container\">\n",
              "      <div>\n",
              "<style scoped>\n",
              "    .dataframe tbody tr th:only-of-type {\n",
              "        vertical-align: middle;\n",
              "    }\n",
              "\n",
              "    .dataframe tbody tr th {\n",
              "        vertical-align: top;\n",
              "    }\n",
              "\n",
              "    .dataframe thead th {\n",
              "        text-align: right;\n",
              "    }\n",
              "</style>\n",
              "<table border=\"1\" class=\"dataframe\">\n",
              "  <thead>\n",
              "    <tr style=\"text-align: right;\">\n",
              "      <th></th>\n",
              "      <th>lcavol</th>\n",
              "      <th>lweight</th>\n",
              "      <th>age</th>\n",
              "      <th>lbph</th>\n",
              "      <th>svi</th>\n",
              "      <th>lcp</th>\n",
              "      <th>gleason</th>\n",
              "      <th>pgg45</th>\n",
              "      <th>lpsa</th>\n",
              "    </tr>\n",
              "  </thead>\n",
              "  <tbody>\n",
              "    <tr>\n",
              "      <th>0</th>\n",
              "      <td>-0.579818</td>\n",
              "      <td>2.769459</td>\n",
              "      <td>50</td>\n",
              "      <td>-1.386294</td>\n",
              "      <td>0</td>\n",
              "      <td>-1.386294</td>\n",
              "      <td>6</td>\n",
              "      <td>0</td>\n",
              "      <td>-0.430783</td>\n",
              "    </tr>\n",
              "    <tr>\n",
              "      <th>1</th>\n",
              "      <td>-0.994252</td>\n",
              "      <td>3.319626</td>\n",
              "      <td>58</td>\n",
              "      <td>-1.386294</td>\n",
              "      <td>0</td>\n",
              "      <td>-1.386294</td>\n",
              "      <td>6</td>\n",
              "      <td>0</td>\n",
              "      <td>-0.162519</td>\n",
              "    </tr>\n",
              "    <tr>\n",
              "      <th>2</th>\n",
              "      <td>-0.510826</td>\n",
              "      <td>2.691243</td>\n",
              "      <td>74</td>\n",
              "      <td>-1.386294</td>\n",
              "      <td>0</td>\n",
              "      <td>-1.386294</td>\n",
              "      <td>7</td>\n",
              "      <td>20</td>\n",
              "      <td>-0.162519</td>\n",
              "    </tr>\n",
              "    <tr>\n",
              "      <th>3</th>\n",
              "      <td>-1.203973</td>\n",
              "      <td>3.282789</td>\n",
              "      <td>58</td>\n",
              "      <td>-1.386294</td>\n",
              "      <td>0</td>\n",
              "      <td>-1.386294</td>\n",
              "      <td>6</td>\n",
              "      <td>0</td>\n",
              "      <td>-0.162519</td>\n",
              "    </tr>\n",
              "    <tr>\n",
              "      <th>4</th>\n",
              "      <td>0.751416</td>\n",
              "      <td>3.432373</td>\n",
              "      <td>62</td>\n",
              "      <td>-1.386294</td>\n",
              "      <td>0</td>\n",
              "      <td>-1.386294</td>\n",
              "      <td>6</td>\n",
              "      <td>0</td>\n",
              "      <td>0.371564</td>\n",
              "    </tr>\n",
              "  </tbody>\n",
              "</table>\n",
              "</div>\n",
              "      <button class=\"colab-df-convert\" onclick=\"convertToInteractive('df-33ee4966-64ef-469e-abb1-e13b60875ed1')\"\n",
              "              title=\"Convert this dataframe to an interactive table.\"\n",
              "              style=\"display:none;\">\n",
              "        \n",
              "  <svg xmlns=\"http://www.w3.org/2000/svg\" height=\"24px\"viewBox=\"0 0 24 24\"\n",
              "       width=\"24px\">\n",
              "    <path d=\"M0 0h24v24H0V0z\" fill=\"none\"/>\n",
              "    <path d=\"M18.56 5.44l.94 2.06.94-2.06 2.06-.94-2.06-.94-.94-2.06-.94 2.06-2.06.94zm-11 1L8.5 8.5l.94-2.06 2.06-.94-2.06-.94L8.5 2.5l-.94 2.06-2.06.94zm10 10l.94 2.06.94-2.06 2.06-.94-2.06-.94-.94-2.06-.94 2.06-2.06.94z\"/><path d=\"M17.41 7.96l-1.37-1.37c-.4-.4-.92-.59-1.43-.59-.52 0-1.04.2-1.43.59L10.3 9.45l-7.72 7.72c-.78.78-.78 2.05 0 2.83L4 21.41c.39.39.9.59 1.41.59.51 0 1.02-.2 1.41-.59l7.78-7.78 2.81-2.81c.8-.78.8-2.07 0-2.86zM5.41 20L4 18.59l7.72-7.72 1.47 1.35L5.41 20z\"/>\n",
              "  </svg>\n",
              "      </button>\n",
              "      \n",
              "  <style>\n",
              "    .colab-df-container {\n",
              "      display:flex;\n",
              "      flex-wrap:wrap;\n",
              "      gap: 12px;\n",
              "    }\n",
              "\n",
              "    .colab-df-convert {\n",
              "      background-color: #E8F0FE;\n",
              "      border: none;\n",
              "      border-radius: 50%;\n",
              "      cursor: pointer;\n",
              "      display: none;\n",
              "      fill: #1967D2;\n",
              "      height: 32px;\n",
              "      padding: 0 0 0 0;\n",
              "      width: 32px;\n",
              "    }\n",
              "\n",
              "    .colab-df-convert:hover {\n",
              "      background-color: #E2EBFA;\n",
              "      box-shadow: 0px 1px 2px rgba(60, 64, 67, 0.3), 0px 1px 3px 1px rgba(60, 64, 67, 0.15);\n",
              "      fill: #174EA6;\n",
              "    }\n",
              "\n",
              "    [theme=dark] .colab-df-convert {\n",
              "      background-color: #3B4455;\n",
              "      fill: #D2E3FC;\n",
              "    }\n",
              "\n",
              "    [theme=dark] .colab-df-convert:hover {\n",
              "      background-color: #434B5C;\n",
              "      box-shadow: 0px 1px 3px 1px rgba(0, 0, 0, 0.15);\n",
              "      filter: drop-shadow(0px 1px 2px rgba(0, 0, 0, 0.3));\n",
              "      fill: #FFFFFF;\n",
              "    }\n",
              "  </style>\n",
              "\n",
              "      <script>\n",
              "        const buttonEl =\n",
              "          document.querySelector('#df-33ee4966-64ef-469e-abb1-e13b60875ed1 button.colab-df-convert');\n",
              "        buttonEl.style.display =\n",
              "          google.colab.kernel.accessAllowed ? 'block' : 'none';\n",
              "\n",
              "        async function convertToInteractive(key) {\n",
              "          const element = document.querySelector('#df-33ee4966-64ef-469e-abb1-e13b60875ed1');\n",
              "          const dataTable =\n",
              "            await google.colab.kernel.invokeFunction('convertToInteractive',\n",
              "                                                     [key], {});\n",
              "          if (!dataTable) return;\n",
              "\n",
              "          const docLinkHtml = 'Like what you see? Visit the ' +\n",
              "            '<a target=\"_blank\" href=https://colab.research.google.com/notebooks/data_table.ipynb>data table notebook</a>'\n",
              "            + ' to learn more about interactive tables.';\n",
              "          element.innerHTML = '';\n",
              "          dataTable['output_type'] = 'display_data';\n",
              "          await google.colab.output.renderOutput(dataTable, element);\n",
              "          const docLink = document.createElement('div');\n",
              "          docLink.innerHTML = docLinkHtml;\n",
              "          element.appendChild(docLink);\n",
              "        }\n",
              "      </script>\n",
              "    </div>\n",
              "  </div>\n",
              "  "
            ]
          },
          "metadata": {},
          "execution_count": 2
        }
      ],
      "source": [
        "Prostate = pd.read_csv('Prostate.csv')\n",
        "Prostate.head()"
      ]
    },
    {
      "cell_type": "markdown",
      "source": [
        "**Artificial Neural Nets (ANN)**: Fit a regression NN with Balance as response:\n"
      ],
      "metadata": {
        "id": "Om5fcIkwJmcy"
      }
    },
    {
      "cell_type": "code",
      "source": [
        "# Function to generate Deep ANN model \n",
        "def make_regression_ann(Optimizer_Trial, Neurons_Trial_1, Neurons_Trial_2):\n",
        "    \n",
        "    # Creating the classifier ANN model\n",
        "    regressor = Sequential()\n",
        "    regressor.add(Dense(units=Neurons_Trial_1, input_dim=8, activation='relu'))\n",
        "    regressor.add(Dense(units=Neurons_Trial_2, activation='relu'))\n",
        "    regressor.add(Dense(units=1, activation='linear'))\n",
        "    regressor.compile(optimizer=Optimizer_Trial, loss='mean_squared_error', metrics=['mse'])\n",
        "            \n",
        "    return regressor\n",
        "\n",
        "\n",
        "Parameter_Trials = {'batch_size':[10,20,30],\n",
        "                    'epochs':[10,20],\n",
        "                    'Optimizer_Trial':['adam', 'rmsprop'],\n",
        "                    'Neurons_Trial_1': [5,10,30],\n",
        "                    'Neurons_Trial_2': [5,10,30]\n",
        "                   }\n",
        "\n",
        "# Creating the classifier ANN\n",
        "RegressionModel = KerasRegressor(make_regression_ann, verbose=0)\n",
        "\n",
        "# Creating the Grid search space\n",
        "# See different scoring methods by using sklearn.metrics.SCORERS.keys()\n",
        "grid_search_reg = GridSearchCV(estimator=RegressionModel, param_grid=Parameter_Trials, cv=5)\n",
        "\n",
        "########################################\n",
        "X = Prostate.drop(['lpsa'], axis=1)\n",
        "y = Prostate['lpsa']\n",
        "\n",
        "# Measuring how much time it took to find the best params\n",
        "import time\n",
        "StartTime=time.time()\n",
        "\n",
        "# Running Grid Search for different paramenters\n",
        "grid_search_reg.fit(X, y, verbose=0)\n",
        "\n",
        "EndTime=time.time()\n",
        "print(\"Total Time Taken: \", round((EndTime-StartTime)/60), 'Minutes')\n",
        "\n",
        "########################################\n",
        "\n",
        "# printing the best parameters\n",
        "print('#### Best hyperparamters ####')\n",
        "grid_search_reg.best_params_"
      ],
      "metadata": {
        "id": "YEogkJzfJpwq",
        "colab": {
          "base_uri": "https://localhost:8080/"
        },
        "outputId": "c296e4a5-02ad-41f1-d273-74d253508242"
      },
      "execution_count": 4,
      "outputs": [
        {
          "output_type": "stream",
          "name": "stderr",
          "text": [
            "/usr/local/lib/python3.7/dist-packages/ipykernel_launcher.py:22: DeprecationWarning: KerasRegressor is deprecated, use Sci-Keras (https://github.com/adriangb/scikeras) instead. See https://www.adriangb.com/scikeras/stable/migration.html for help migrating.\n",
            "WARNING:tensorflow:5 out of the last 9 calls to <function Model.make_test_function.<locals>.test_function at 0x7f3fc2d92440> triggered tf.function retracing. Tracing is expensive and the excessive number of tracings could be due to (1) creating @tf.function repeatedly in a loop, (2) passing tensors with different shapes, (3) passing Python objects instead of tensors. For (1), please define your @tf.function outside of the loop. For (2), @tf.function has reduce_retracing=True option that can avoid unnecessary retracing. For (3), please refer to https://www.tensorflow.org/guide/function#controlling_retracing and https://www.tensorflow.org/api_docs/python/tf/function for  more details.\n",
            "WARNING:tensorflow:6 out of the last 11 calls to <function Model.make_test_function.<locals>.test_function at 0x7f3fc2ba5440> triggered tf.function retracing. Tracing is expensive and the excessive number of tracings could be due to (1) creating @tf.function repeatedly in a loop, (2) passing tensors with different shapes, (3) passing Python objects instead of tensors. For (1), please define your @tf.function outside of the loop. For (2), @tf.function has reduce_retracing=True option that can avoid unnecessary retracing. For (3), please refer to https://www.tensorflow.org/guide/function#controlling_retracing and https://www.tensorflow.org/api_docs/python/tf/function for  more details.\n"
          ]
        },
        {
          "output_type": "stream",
          "name": "stdout",
          "text": [
            "Total Time Taken:  8 Minutes\n",
            "#### Best hyperparamters ####\n"
          ]
        },
        {
          "output_type": "execute_result",
          "data": {
            "text/plain": [
              "{'Neurons_Trial_1': 30,\n",
              " 'Neurons_Trial_2': 5,\n",
              " 'Optimizer_Trial': 'rmsprop',\n",
              " 'batch_size': 10,\n",
              " 'epochs': 20}"
            ]
          },
          "metadata": {},
          "execution_count": 4
        }
      ]
    },
    {
      "cell_type": "markdown",
      "source": [
        "To adjust the decay parameter (shrinkage) with keras, you need to modify the optimizer:"
      ],
      "metadata": {
        "id": "TyPXKpqFNhk2"
      }
    },
    {
      "cell_type": "code",
      "source": [
        "def make_regression_ann(decay_rate, Neurons_Trial_1, Neurons_Trial_2):\n",
        "\n",
        "    # you can also pass different values for momentum & lr (other inputs of SGD) to find their optimal values as well\n",
        "    sgd = SGD(decay=decay_rate, nesterov=False)\n",
        "\n",
        "    # Creating the classifier ANN model\n",
        "    regressor = Sequential()\n",
        "    regressor.add(Dense(units=Neurons_Trial_1, input_dim=8, activation='relu'))\n",
        "    regressor.add(Dense(units=Neurons_Trial_2, activation='relu'))\n",
        "    regressor.add(Dense(units=1, activation='linear'))\n",
        "    regressor.compile(optimizer=sgd, loss='mean_squared_error', metrics=['mse'])\n",
        "            \n",
        "    return regressor\n",
        "\n",
        "# for simplicity, only including the best parameters from the previouse GridSearchCV.\n",
        "# Idealy, you need to repeate the fitting process with all combinations again\n",
        "Parameter_Trials = {'batch_size':[5],\n",
        "                    'epochs':[20],\n",
        "                    'decay_rate':[1,0.01,0.001],\n",
        "                    'Neurons_Trial_1': [30],\n",
        "                    'Neurons_Trial_2': [5]\n",
        "                   }\n",
        "\n",
        "# Creating the classifier ANN\n",
        "RegressionModel = KerasRegressor(make_regression_ann, verbose=0)\n",
        "\n",
        "# Creating the Grid search space\n",
        "# See different scoring methods by using sklearn.metrics.SCORERS.keys()\n",
        "grid_search_reg = GridSearchCV(estimator=RegressionModel, param_grid=Parameter_Trials, cv=5)\n",
        "\n",
        "########################################\n",
        "\n",
        "# Measuring how much time it took to find the best params\n",
        "import time\n",
        "StartTime=time.time()\n",
        "\n",
        "# Running Grid Search for different paramenters\n",
        "grid_search_reg.fit(X, y, verbose=0)\n",
        "\n",
        "EndTime=time.time()\n",
        "print(\"Total Time Taken: \", round((EndTime-StartTime)/60), 'Minutes')\n",
        "\n",
        "########################################\n",
        "\n",
        "# printing the best parameters\n",
        "print('#### Best hyperparamters ####')\n",
        "grid_search_reg.best_params_"
      ],
      "metadata": {
        "id": "J4rnhRWXOEx0",
        "colab": {
          "base_uri": "https://localhost:8080/"
        },
        "outputId": "07f98790-5d36-4c38-c481-fa0284d62145"
      },
      "execution_count": 5,
      "outputs": [
        {
          "output_type": "stream",
          "name": "stderr",
          "text": [
            "/usr/local/lib/python3.7/dist-packages/ipykernel_launcher.py:25: DeprecationWarning: KerasRegressor is deprecated, use Sci-Keras (https://github.com/adriangb/scikeras) instead. See https://www.adriangb.com/scikeras/stable/migration.html for help migrating.\n",
            "/usr/local/lib/python3.7/dist-packages/sklearn/model_selection/_search.py:972: UserWarning: One or more of the test scores are non-finite: [-3.51559127e+03 -1.67080735e+00             nan]\n",
            "  category=UserWarning,\n"
          ]
        },
        {
          "output_type": "stream",
          "name": "stdout",
          "text": [
            "Total Time Taken:  0 Minutes\n",
            "#### Best hyperparamters ####\n"
          ]
        },
        {
          "output_type": "execute_result",
          "data": {
            "text/plain": [
              "{'Neurons_Trial_1': 30,\n",
              " 'Neurons_Trial_2': 5,\n",
              " 'batch_size': 5,\n",
              " 'decay_rate': 0.01,\n",
              " 'epochs': 20}"
            ]
          },
          "metadata": {},
          "execution_count": 5
        }
      ]
    }
  ]
}