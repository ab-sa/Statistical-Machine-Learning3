{
  "nbformat": 4,
  "nbformat_minor": 0,
  "metadata": {
    "colab": {
      "name": "Lecture3.ipynb",
      "provenance": [],
      "authorship_tag": "ABX9TyMJOSYhQc85Bb4KNQ2h9D5p",
      "include_colab_link": true
    },
    "kernelspec": {
      "name": "python3",
      "display_name": "Python 3"
    },
    "language_info": {
      "name": "python"
    }
  },
  "cells": [
    {
      "cell_type": "markdown",
      "metadata": {
        "id": "view-in-github",
        "colab_type": "text"
      },
      "source": [
        "<a href=\"https://colab.research.google.com/github/ab-sa/Statistical-Machine-Learning3/blob/main/Lecture3.ipynb\" target=\"_parent\"><img src=\"https://colab.research.google.com/assets/colab-badge.svg\" alt=\"Open In Colab\"/></a>"
      ]
    },
    {
      "cell_type": "markdown",
      "metadata": {
        "id": "Rw4LYv-M8dUQ"
      },
      "source": [
        "Import libraries"
      ]
    },
    {
      "cell_type": "code",
      "metadata": {
        "id": "a7Th129M8eqF"
      },
      "source": [
        "import numpy as np\n",
        "import pandas as pd\n",
        "from sklearn.linear_model import LinearRegression\n",
        "from sklearn.model_selection import train_test_split\n",
        "#!pip install fast_ml\n",
        "#from fast_ml.model_development import train_valid_test_split\n",
        "from sklearn.utils import resample\n",
        "from sklearn.model_selection import cross_val_score\n",
        "from sklearn.model_selection import RepeatedKFold\n",
        "from sklearn.metrics import mean_squared_error, r2_score\n",
        "import matplotlib.pyplot as plt\n",
        "import seaborn as sns"
      ],
      "execution_count": null,
      "outputs": []
    },
    {
      "cell_type": "markdown",
      "metadata": {
        "id": "VNUNEYO-8mdU"
      },
      "source": [
        "Import Credit data"
      ]
    },
    {
      "cell_type": "code",
      "metadata": {
        "id": "3d0AgYGS8nMe"
      },
      "source": [
        "Credit = pd.read_csv('Credit.csv')\n",
        "print('Dimension of the data: ' + str(Credit.shape))\n",
        "Credit.head()"
      ],
      "execution_count": null,
      "outputs": []
    },
    {
      "cell_type": "markdown",
      "metadata": {
        "id": "rUTNzUivBMKD"
      },
      "source": [
        "Three models we will compare:\n",
        "\n",
        "*   **Model 1**: Balance vs Income\n",
        "*   **Model 2**: Balance vs Age\n",
        "*   **Model 3**: Balance vs Income & Age\n",
        "\n",
        "There is no specific reason for choosing these three. Could compare others as well."
      ]
    },
    {
      "cell_type": "markdown",
      "metadata": {
        "id": "g7X1SksEAaXQ"
      },
      "source": [
        "**Part 1: Random single split**"
      ]
    },
    {
      "cell_type": "code",
      "metadata": {
        "id": "_RbsncRDAw_B"
      },
      "source": [
        "# using train_test_split:\n",
        "X_train, X_rem, y_train, y_rem = train_test_split(Credit[['Income', 'Age']], Credit['Balance'], train_size=0.7,\n",
        "                                                  random_state=123)\n",
        "X_valid, X_test, y_valid, y_test = train_test_split(X_rem, y_rem, test_size=0.5, random_state=123)\n",
        "\n",
        "print('Dimension of training set: ', X_train.shape)\n",
        "print('Dimension of validation set: ', X_valid.shape)\n",
        "print('Dimension of test data: ', X_test.shape)"
      ],
      "execution_count": null,
      "outputs": []
    },
    {
      "cell_type": "markdown",
      "metadata": {
        "id": "TwRlEP4eG8wL"
      },
      "source": [
        "Fit regression models:"
      ]
    },
    {
      "cell_type": "code",
      "metadata": {
        "id": "N9tIQ8wjHBKX"
      },
      "source": [
        "reg_income = LinearRegression().fit(X_train[['Income']], y_train)\n",
        "reg_age = LinearRegression().fit(X_train[['Age']], y_train)\n",
        "reg_both = LinearRegression().fit(X_train, y_train)\n",
        "\n",
        "print('Evaluation on training set:')\n",
        "print('R-squared of 1st model in training set:  %.3f' % reg_income.score(X_train[['Income']], y_train))\n",
        "print('R-squared of 2nd model in training set:  %.3f' % reg_age.score(X_train[['Age']], y_train))\n",
        "print('R-squared of 3rd model in training set:  %.3f' % reg_both.score(X_train, y_train))\n",
        "\n",
        "print('Evaluation on validation set:')\n",
        "print('R-squared of 1st model in validation set:  %.3f' % reg_income.score(X_valid[['Income']], y_valid))\n",
        "print('R-squared of 2nd model in validation set:  %.3f' % reg_age.score(X_valid[['Age']], y_valid))\n",
        "print('R-squared of 3rd model in validation set:  %.3f' % reg_both.score(X_valid, y_valid))\n",
        "\n",
        "print('Evaluation on test set:')\n",
        "print('R-squared of 1st model in test set:  %.3f' % reg_income.score(X_test[['Income']], y_test))\n",
        "print('R-squared of 2nd model in test set:  %.3f' % reg_age.score(X_test[['Age']], y_test))\n",
        "print('R-squared of 3rd model in test set:  %.3f' % reg_both.score(X_test, y_test))"
      ],
      "execution_count": null,
      "outputs": []
    },
    {
      "cell_type": "markdown",
      "metadata": {
        "id": "Gtwswi5eMOhy"
      },
      "source": [
        "**Part 2: Cross-Validation model selection (training and validation)**"
      ]
    },
    {
      "cell_type": "markdown",
      "metadata": {
        "id": "ta4Q41egEYie"
      },
      "source": [
        "Part a: single cross-validation splits:"
      ]
    },
    {
      "cell_type": "code",
      "metadata": {
        "id": "vRRxYCWKMWZw"
      },
      "source": [
        "cv_train_income = cross_val_score(reg_income, X_train[['Income']], y_train, cv=5, scoring='r2')\n",
        "cv_train_age = cross_val_score(reg_age, X_train[['Age']], y_train, cv=5, scoring='r2')\n",
        "cv_train_both = cross_val_score(reg_both, X_train, y_train, cv=5, scoring='r2')\n",
        "\n",
        "print('R-squared from all the 5 CV-splits:')\n",
        "print(cv_train_income)\n",
        "\n",
        "print('5-fold CV evaluation:')\n",
        "print('R-squared of 1st model:  %.3f' % cv_train_income.mean())\n",
        "print('R-squared of 2nd model:  %.3f' % cv_train_age.mean())\n",
        "print('R-squared of 3rd model:  %.3f' % cv_train_both.mean())"
      ],
      "execution_count": null,
      "outputs": []
    },
    {
      "cell_type": "markdown",
      "metadata": {
        "id": "zRO7QTKfWgS0"
      },
      "source": [
        "Use MSPE (i.e., MSE on the validation set) as scoring:"
      ]
    },
    {
      "cell_type": "code",
      "metadata": {
        "id": "uGWH2A1HWcWC"
      },
      "source": [
        "cv_train_income = cross_val_score(reg_income, X_train[['Income']], y_train, cv=5, scoring='neg_mean_squared_error')\n",
        "cv_train_age = cross_val_score(reg_age, X_train[['Age']], y_train, cv=5, scoring='neg_mean_squared_error')\n",
        "cv_train_both = cross_val_score(reg_both, X_train, y_train, cv=5, scoring='neg_mean_squared_error')\n",
        "\n",
        "print('MSPE from all the 5 CV-splits:')\n",
        "print(cv_train_income)\n",
        "\n",
        "print('5-fold CV evaluation:')\n",
        "print('MSPE of 1st model:  %.3f' % cv_train_income.mean())\n",
        "print('MSPE of 2nd model:  %.3f' % cv_train_age.mean())\n",
        "print('MSPE of 3rd model:  %.3f' % cv_train_both.mean())"
      ],
      "execution_count": null,
      "outputs": []
    },
    {
      "cell_type": "markdown",
      "metadata": {
        "id": "rdQoTXgKEh5b"
      },
      "source": [
        "Part b: repeated cross-validation splits:"
      ]
    },
    {
      "cell_type": "code",
      "metadata": {
        "id": "Uj1StUf9EkZf"
      },
      "source": [
        "rcv = RepeatedKFold(n_splits=5, n_repeats=10, random_state=1)\n",
        "\n",
        "rcv_train_income = cross_val_score(reg_income, X_train[['Income']], y_train, cv=rcv, scoring='r2')\n",
        "rcv_train_age = cross_val_score(reg_age, X_train[['Age']], y_train, cv=rcv, scoring='r2')\n",
        "rcv_train_both = cross_val_score(reg_both, X_train, y_train, cv=rcv, scoring='r2')\n",
        "\n",
        "print('R-squared from all the repated 5 CV-splits:')\n",
        "print(rcv_train_income)\n",
        "\n",
        "print('Repeated 5fold-CV evaluation:')\n",
        "print('R-squared of 1st model:  %.3f' % rcv_train_income.mean())\n",
        "print('R-squared of 2nd model:  %.3f' % rcv_train_age.mean())\n",
        "print('R-squared of 3rd model:  %.3f' % rcv_train_both.mean())"
      ],
      "execution_count": null,
      "outputs": []
    },
    {
      "cell_type": "markdown",
      "metadata": {
        "id": "-Q060nSAPasg"
      },
      "source": [
        "**Part 3: Bootstrap**"
      ]
    },
    {
      "cell_type": "markdown",
      "metadata": {
        "id": "ou0QiBD5-JTb"
      },
      "source": [
        "Single bootstrap split:"
      ]
    },
    {
      "cell_type": "code",
      "metadata": {
        "id": "0ANjFRyMPgl_"
      },
      "source": [
        "train_id_bs = resample(range(400), random_state=1)\n",
        "valid_id_bs = [item for item in range(400) if item not in train_id_bs]\n",
        "X_train_bs = Credit.iloc[train_id_bs, [1, 5]]\n",
        "y_train_bs = Credit['Balance'][train_id_bs]\n",
        "X_valid_bs = Credit.iloc[valid_id_bs, [1, 5]]\n",
        "y_valid_bs = Credit['Balance'][valid_id_bs]\n",
        "\n",
        "print('Number of uniqiue values in Training set: ', len(set(train_id_bs)))\n",
        "print(X_train_bs.head())\n",
        "print(X_train_bs.shape)\n",
        "print(y_train_bs.head())\n",
        "print(X_valid_bs.head())\n",
        "print(X_valid_bs.shape)"
      ],
      "execution_count": null,
      "outputs": []
    },
    {
      "cell_type": "markdown",
      "metadata": {
        "id": "I_bEbqDr-VE6"
      },
      "source": [
        "Fit the same linear regression models on the boostrap splits:"
      ]
    },
    {
      "cell_type": "code",
      "metadata": {
        "id": "lMlRVwa--byz"
      },
      "source": [
        "reg_income_bs = LinearRegression().fit(X_train_bs[['Income']], y_train_bs)\n",
        "reg_age_bs = LinearRegression().fit(X_train_bs[['Age']], y_train_bs)\n",
        "reg_both_bs = LinearRegression().fit(X_train_bs, y_train_bs)\n",
        "\n",
        "print('Evaluation on boostrap training set:')\n",
        "print('R-squared of 1st model in boostrap training set:  %.3f' % reg_income.score(X_train_bs[['Income']], y_train_bs))\n",
        "print('R-squared of 2nd model in boostrap training set:  %.3f' % reg_age.score(X_train_bs[['Age']], y_train_bs))\n",
        "print('R-squared of 3rd model in boostrap training set:  %.3f' % reg_both.score(X_train_bs, y_train_bs))\n",
        "\n",
        "print('Evaluation on validation set:')\n",
        "print('R-squared of 1st model in boostrap validation set:  %.3f' % reg_income.score(X_valid_bs[['Income']], y_valid_bs))\n",
        "print('R-squared of 2nd model in boostrap validation set:  %.3f' % reg_age.score(X_valid_bs[['Age']], y_valid_bs))\n",
        "print('R-squared of 3rd model in boostrap validation set:  %.3f' % reg_both.score(X_valid_bs, y_valid_bs))"
      ],
      "execution_count": null,
      "outputs": []
    }
  ]
}